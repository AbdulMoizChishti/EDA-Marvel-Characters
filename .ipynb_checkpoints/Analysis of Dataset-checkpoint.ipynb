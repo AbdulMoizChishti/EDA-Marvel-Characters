{
 "cells": [
  {
   "cell_type": "markdown",
   "id": "e5efc272",
   "metadata": {},
   "source": [
    "# Importing libraries"
   ]
  },
  {
   "cell_type": "code",
   "execution_count": 3,
   "id": "d7598e47",
   "metadata": {},
   "outputs": [],
   "source": [
    "import pandas as pd\n",
    "import numpy as np"
   ]
  },
  {
   "cell_type": "markdown",
   "id": "97f52607",
   "metadata": {},
   "source": [
    "# Reading the CSV file"
   ]
  },
  {
   "cell_type": "code",
   "execution_count": 4,
   "id": "ce06c918",
   "metadata": {},
   "outputs": [],
   "source": [
    "data= pd.read_csv('marvel.csv')"
   ]
  },
  {
   "cell_type": "markdown",
   "id": "d5a6d963",
   "metadata": {},
   "source": [
    "# Making A Copy Of the DataSet"
   ]
  },
  {
   "cell_type": "code",
   "execution_count": 5,
   "id": "c8ce5a54",
   "metadata": {},
   "outputs": [],
   "source": [
    "dc=data.copy()"
   ]
  },
  {
   "cell_type": "markdown",
   "id": "f7545433",
   "metadata": {},
   "source": [
    "# Printing the Copy"
   ]
  },
  {
   "cell_type": "code",
   "execution_count": 30,
   "id": "5cd78023",
   "metadata": {},
   "outputs": [
    {
     "data": {
      "text/html": [
       "<div>\n",
       "<style scoped>\n",
       "    .dataframe tbody tr th:only-of-type {\n",
       "        vertical-align: middle;\n",
       "    }\n",
       "\n",
       "    .dataframe tbody tr th {\n",
       "        vertical-align: top;\n",
       "    }\n",
       "\n",
       "    .dataframe thead th {\n",
       "        text-align: right;\n",
       "    }\n",
       "</style>\n",
       "<table border=\"1\" class=\"dataframe\">\n",
       "  <thead>\n",
       "    <tr style=\"text-align: right;\">\n",
       "      <th></th>\n",
       "      <th>name</th>\n",
       "      <th>ID</th>\n",
       "      <th>ALIGN</th>\n",
       "      <th>EYE</th>\n",
       "      <th>HAIR</th>\n",
       "      <th>SEX</th>\n",
       "      <th>GSM</th>\n",
       "      <th>ALIVE</th>\n",
       "      <th>APPEARANCES</th>\n",
       "      <th>FIRST APPEARANCE</th>\n",
       "      <th>Year</th>\n",
       "    </tr>\n",
       "  </thead>\n",
       "  <tbody>\n",
       "    <tr>\n",
       "      <th>0</th>\n",
       "      <td>Spider-Man (Peter Parker)</td>\n",
       "      <td>Secret Identity</td>\n",
       "      <td>Good Characters</td>\n",
       "      <td>Hazel Eyes</td>\n",
       "      <td>Brown Hair</td>\n",
       "      <td>Male Characters</td>\n",
       "      <td>NaN</td>\n",
       "      <td>Living Characters</td>\n",
       "      <td>4043.0</td>\n",
       "      <td>Aug-62</td>\n",
       "      <td>1962.0</td>\n",
       "    </tr>\n",
       "    <tr>\n",
       "      <th>1</th>\n",
       "      <td>Captain America (Steven Rogers)</td>\n",
       "      <td>Public Identity</td>\n",
       "      <td>Good Characters</td>\n",
       "      <td>Blue Eyes</td>\n",
       "      <td>White Hair</td>\n",
       "      <td>Male Characters</td>\n",
       "      <td>NaN</td>\n",
       "      <td>Living Characters</td>\n",
       "      <td>3360.0</td>\n",
       "      <td>Mar-41</td>\n",
       "      <td>1941.0</td>\n",
       "    </tr>\n",
       "    <tr>\n",
       "      <th>2</th>\n",
       "      <td>Wolverine (James \\\"Logan\\\" Howlett)</td>\n",
       "      <td>Public Identity</td>\n",
       "      <td>Neutral Characters</td>\n",
       "      <td>Blue Eyes</td>\n",
       "      <td>Black Hair</td>\n",
       "      <td>Male Characters</td>\n",
       "      <td>NaN</td>\n",
       "      <td>Living Characters</td>\n",
       "      <td>3061.0</td>\n",
       "      <td>Oct-74</td>\n",
       "      <td>1974.0</td>\n",
       "    </tr>\n",
       "    <tr>\n",
       "      <th>3</th>\n",
       "      <td>Iron Man (Anthony \\\"Tony\\\" Stark)</td>\n",
       "      <td>Public Identity</td>\n",
       "      <td>Good Characters</td>\n",
       "      <td>Blue Eyes</td>\n",
       "      <td>Black Hair</td>\n",
       "      <td>Male Characters</td>\n",
       "      <td>NaN</td>\n",
       "      <td>Living Characters</td>\n",
       "      <td>2961.0</td>\n",
       "      <td>Mar-63</td>\n",
       "      <td>1963.0</td>\n",
       "    </tr>\n",
       "    <tr>\n",
       "      <th>4</th>\n",
       "      <td>Thor (Thor Odinson)</td>\n",
       "      <td>No Dual Identity</td>\n",
       "      <td>Good Characters</td>\n",
       "      <td>Blue Eyes</td>\n",
       "      <td>Blond Hair</td>\n",
       "      <td>Male Characters</td>\n",
       "      <td>NaN</td>\n",
       "      <td>Living Characters</td>\n",
       "      <td>2258.0</td>\n",
       "      <td>Nov-50</td>\n",
       "      <td>1950.0</td>\n",
       "    </tr>\n",
       "    <tr>\n",
       "      <th>...</th>\n",
       "      <td>...</td>\n",
       "      <td>...</td>\n",
       "      <td>...</td>\n",
       "      <td>...</td>\n",
       "      <td>...</td>\n",
       "      <td>...</td>\n",
       "      <td>...</td>\n",
       "      <td>...</td>\n",
       "      <td>...</td>\n",
       "      <td>...</td>\n",
       "      <td>...</td>\n",
       "    </tr>\n",
       "    <tr>\n",
       "      <th>16371</th>\n",
       "      <td>Ru'ach (Earth-616)</td>\n",
       "      <td>No Dual Identity</td>\n",
       "      <td>Bad Characters</td>\n",
       "      <td>Green Eyes</td>\n",
       "      <td>No Hair</td>\n",
       "      <td>Male Characters</td>\n",
       "      <td>NaN</td>\n",
       "      <td>Living Characters</td>\n",
       "      <td>NaN</td>\n",
       "      <td>NaN</td>\n",
       "      <td>NaN</td>\n",
       "    </tr>\n",
       "    <tr>\n",
       "      <th>16372</th>\n",
       "      <td>Thane (Thanos' son) (Earth-616)</td>\n",
       "      <td>No Dual Identity</td>\n",
       "      <td>Good Characters</td>\n",
       "      <td>Blue Eyes</td>\n",
       "      <td>Bald</td>\n",
       "      <td>Male Characters</td>\n",
       "      <td>NaN</td>\n",
       "      <td>Living Characters</td>\n",
       "      <td>NaN</td>\n",
       "      <td>NaN</td>\n",
       "      <td>NaN</td>\n",
       "    </tr>\n",
       "    <tr>\n",
       "      <th>16373</th>\n",
       "      <td>Tinkerer (Skrull) (Earth-616)</td>\n",
       "      <td>Secret Identity</td>\n",
       "      <td>Bad Characters</td>\n",
       "      <td>Black Eyes</td>\n",
       "      <td>Bald</td>\n",
       "      <td>Male Characters</td>\n",
       "      <td>NaN</td>\n",
       "      <td>Living Characters</td>\n",
       "      <td>NaN</td>\n",
       "      <td>NaN</td>\n",
       "      <td>NaN</td>\n",
       "    </tr>\n",
       "    <tr>\n",
       "      <th>16374</th>\n",
       "      <td>TK421 (Spiderling) (Earth-616)</td>\n",
       "      <td>Secret Identity</td>\n",
       "      <td>Neutral Characters</td>\n",
       "      <td>NaN</td>\n",
       "      <td>NaN</td>\n",
       "      <td>Male Characters</td>\n",
       "      <td>NaN</td>\n",
       "      <td>Living Characters</td>\n",
       "      <td>NaN</td>\n",
       "      <td>NaN</td>\n",
       "      <td>NaN</td>\n",
       "    </tr>\n",
       "    <tr>\n",
       "      <th>16375</th>\n",
       "      <td>Yologarch (Earth-616)</td>\n",
       "      <td>NaN</td>\n",
       "      <td>Bad Characters</td>\n",
       "      <td>NaN</td>\n",
       "      <td>NaN</td>\n",
       "      <td>NaN</td>\n",
       "      <td>NaN</td>\n",
       "      <td>Living Characters</td>\n",
       "      <td>NaN</td>\n",
       "      <td>NaN</td>\n",
       "      <td>NaN</td>\n",
       "    </tr>\n",
       "  </tbody>\n",
       "</table>\n",
       "<p>16376 rows × 11 columns</p>\n",
       "</div>"
      ],
      "text/plain": [
       "                                      name                ID  \\\n",
       "0                Spider-Man (Peter Parker)   Secret Identity   \n",
       "1          Captain America (Steven Rogers)   Public Identity   \n",
       "2      Wolverine (James \\\"Logan\\\" Howlett)   Public Identity   \n",
       "3        Iron Man (Anthony \\\"Tony\\\" Stark)   Public Identity   \n",
       "4                      Thor (Thor Odinson)  No Dual Identity   \n",
       "...                                    ...               ...   \n",
       "16371                   Ru'ach (Earth-616)  No Dual Identity   \n",
       "16372      Thane (Thanos' son) (Earth-616)  No Dual Identity   \n",
       "16373        Tinkerer (Skrull) (Earth-616)   Secret Identity   \n",
       "16374       TK421 (Spiderling) (Earth-616)   Secret Identity   \n",
       "16375                Yologarch (Earth-616)               NaN   \n",
       "\n",
       "                    ALIGN         EYE        HAIR              SEX  GSM  \\\n",
       "0         Good Characters  Hazel Eyes  Brown Hair  Male Characters  NaN   \n",
       "1         Good Characters   Blue Eyes  White Hair  Male Characters  NaN   \n",
       "2      Neutral Characters   Blue Eyes  Black Hair  Male Characters  NaN   \n",
       "3         Good Characters   Blue Eyes  Black Hair  Male Characters  NaN   \n",
       "4         Good Characters   Blue Eyes  Blond Hair  Male Characters  NaN   \n",
       "...                   ...         ...         ...              ...  ...   \n",
       "16371      Bad Characters  Green Eyes     No Hair  Male Characters  NaN   \n",
       "16372     Good Characters   Blue Eyes        Bald  Male Characters  NaN   \n",
       "16373      Bad Characters  Black Eyes        Bald  Male Characters  NaN   \n",
       "16374  Neutral Characters         NaN         NaN  Male Characters  NaN   \n",
       "16375      Bad Characters         NaN         NaN              NaN  NaN   \n",
       "\n",
       "                   ALIVE  APPEARANCES FIRST APPEARANCE    Year  \n",
       "0      Living Characters       4043.0           Aug-62  1962.0  \n",
       "1      Living Characters       3360.0           Mar-41  1941.0  \n",
       "2      Living Characters       3061.0           Oct-74  1974.0  \n",
       "3      Living Characters       2961.0           Mar-63  1963.0  \n",
       "4      Living Characters       2258.0           Nov-50  1950.0  \n",
       "...                  ...          ...              ...     ...  \n",
       "16371  Living Characters          NaN              NaN     NaN  \n",
       "16372  Living Characters          NaN              NaN     NaN  \n",
       "16373  Living Characters          NaN              NaN     NaN  \n",
       "16374  Living Characters          NaN              NaN     NaN  \n",
       "16375  Living Characters          NaN              NaN     NaN  \n",
       "\n",
       "[16376 rows x 11 columns]"
      ]
     },
     "execution_count": 30,
     "metadata": {},
     "output_type": "execute_result"
    }
   ],
   "source": [
    "dc"
   ]
  },
  {
   "cell_type": "markdown",
   "id": "1203f4c2",
   "metadata": {},
   "source": [
    "# First 10 Records"
   ]
  },
  {
   "cell_type": "code",
   "execution_count": 28,
   "id": "0b9409e2",
   "metadata": {},
   "outputs": [
    {
     "data": {
      "text/html": [
       "<div>\n",
       "<style scoped>\n",
       "    .dataframe tbody tr th:only-of-type {\n",
       "        vertical-align: middle;\n",
       "    }\n",
       "\n",
       "    .dataframe tbody tr th {\n",
       "        vertical-align: top;\n",
       "    }\n",
       "\n",
       "    .dataframe thead th {\n",
       "        text-align: right;\n",
       "    }\n",
       "</style>\n",
       "<table border=\"1\" class=\"dataframe\">\n",
       "  <thead>\n",
       "    <tr style=\"text-align: right;\">\n",
       "      <th></th>\n",
       "      <th>name</th>\n",
       "      <th>ID</th>\n",
       "      <th>ALIGN</th>\n",
       "      <th>EYE</th>\n",
       "      <th>HAIR</th>\n",
       "      <th>SEX</th>\n",
       "      <th>GSM</th>\n",
       "      <th>ALIVE</th>\n",
       "      <th>APPEARANCES</th>\n",
       "      <th>FIRST APPEARANCE</th>\n",
       "      <th>Year</th>\n",
       "    </tr>\n",
       "  </thead>\n",
       "  <tbody>\n",
       "    <tr>\n",
       "      <th>0</th>\n",
       "      <td>Spider-Man (Peter Parker)</td>\n",
       "      <td>Secret Identity</td>\n",
       "      <td>Good Characters</td>\n",
       "      <td>Hazel Eyes</td>\n",
       "      <td>Brown Hair</td>\n",
       "      <td>Male Characters</td>\n",
       "      <td>NaN</td>\n",
       "      <td>Living Characters</td>\n",
       "      <td>4043.0</td>\n",
       "      <td>Aug-62</td>\n",
       "      <td>1962.0</td>\n",
       "    </tr>\n",
       "    <tr>\n",
       "      <th>1</th>\n",
       "      <td>Captain America (Steven Rogers)</td>\n",
       "      <td>Public Identity</td>\n",
       "      <td>Good Characters</td>\n",
       "      <td>Blue Eyes</td>\n",
       "      <td>White Hair</td>\n",
       "      <td>Male Characters</td>\n",
       "      <td>NaN</td>\n",
       "      <td>Living Characters</td>\n",
       "      <td>3360.0</td>\n",
       "      <td>Mar-41</td>\n",
       "      <td>1941.0</td>\n",
       "    </tr>\n",
       "    <tr>\n",
       "      <th>2</th>\n",
       "      <td>Wolverine (James \\\"Logan\\\" Howlett)</td>\n",
       "      <td>Public Identity</td>\n",
       "      <td>Neutral Characters</td>\n",
       "      <td>Blue Eyes</td>\n",
       "      <td>Black Hair</td>\n",
       "      <td>Male Characters</td>\n",
       "      <td>NaN</td>\n",
       "      <td>Living Characters</td>\n",
       "      <td>3061.0</td>\n",
       "      <td>Oct-74</td>\n",
       "      <td>1974.0</td>\n",
       "    </tr>\n",
       "    <tr>\n",
       "      <th>3</th>\n",
       "      <td>Iron Man (Anthony \\\"Tony\\\" Stark)</td>\n",
       "      <td>Public Identity</td>\n",
       "      <td>Good Characters</td>\n",
       "      <td>Blue Eyes</td>\n",
       "      <td>Black Hair</td>\n",
       "      <td>Male Characters</td>\n",
       "      <td>NaN</td>\n",
       "      <td>Living Characters</td>\n",
       "      <td>2961.0</td>\n",
       "      <td>Mar-63</td>\n",
       "      <td>1963.0</td>\n",
       "    </tr>\n",
       "    <tr>\n",
       "      <th>4</th>\n",
       "      <td>Thor (Thor Odinson)</td>\n",
       "      <td>No Dual Identity</td>\n",
       "      <td>Good Characters</td>\n",
       "      <td>Blue Eyes</td>\n",
       "      <td>Blond Hair</td>\n",
       "      <td>Male Characters</td>\n",
       "      <td>NaN</td>\n",
       "      <td>Living Characters</td>\n",
       "      <td>2258.0</td>\n",
       "      <td>Nov-50</td>\n",
       "      <td>1950.0</td>\n",
       "    </tr>\n",
       "    <tr>\n",
       "      <th>5</th>\n",
       "      <td>Benjamin Grimm (Earth-616)</td>\n",
       "      <td>Public Identity</td>\n",
       "      <td>Good Characters</td>\n",
       "      <td>Blue Eyes</td>\n",
       "      <td>No Hair</td>\n",
       "      <td>Male Characters</td>\n",
       "      <td>NaN</td>\n",
       "      <td>Living Characters</td>\n",
       "      <td>2255.0</td>\n",
       "      <td>Nov-61</td>\n",
       "      <td>1961.0</td>\n",
       "    </tr>\n",
       "    <tr>\n",
       "      <th>6</th>\n",
       "      <td>Reed Richards (Earth-616)</td>\n",
       "      <td>Public Identity</td>\n",
       "      <td>Good Characters</td>\n",
       "      <td>Brown Eyes</td>\n",
       "      <td>Brown Hair</td>\n",
       "      <td>Male Characters</td>\n",
       "      <td>NaN</td>\n",
       "      <td>Living Characters</td>\n",
       "      <td>2072.0</td>\n",
       "      <td>Nov-61</td>\n",
       "      <td>1961.0</td>\n",
       "    </tr>\n",
       "    <tr>\n",
       "      <th>7</th>\n",
       "      <td>Hulk (Robert Bruce Banner)</td>\n",
       "      <td>Public Identity</td>\n",
       "      <td>Good Characters</td>\n",
       "      <td>Brown Eyes</td>\n",
       "      <td>Brown Hair</td>\n",
       "      <td>Male Characters</td>\n",
       "      <td>NaN</td>\n",
       "      <td>Living Characters</td>\n",
       "      <td>2017.0</td>\n",
       "      <td>May-62</td>\n",
       "      <td>1962.0</td>\n",
       "    </tr>\n",
       "    <tr>\n",
       "      <th>8</th>\n",
       "      <td>Scott Summers (Earth-616)</td>\n",
       "      <td>Public Identity</td>\n",
       "      <td>Neutral Characters</td>\n",
       "      <td>Brown Eyes</td>\n",
       "      <td>Brown Hair</td>\n",
       "      <td>Male Characters</td>\n",
       "      <td>NaN</td>\n",
       "      <td>Living Characters</td>\n",
       "      <td>1955.0</td>\n",
       "      <td>Sep-63</td>\n",
       "      <td>1963.0</td>\n",
       "    </tr>\n",
       "    <tr>\n",
       "      <th>9</th>\n",
       "      <td>Jonathan Storm (Earth-616)</td>\n",
       "      <td>Public Identity</td>\n",
       "      <td>Good Characters</td>\n",
       "      <td>Blue Eyes</td>\n",
       "      <td>Blond Hair</td>\n",
       "      <td>Male Characters</td>\n",
       "      <td>NaN</td>\n",
       "      <td>Living Characters</td>\n",
       "      <td>1934.0</td>\n",
       "      <td>Nov-61</td>\n",
       "      <td>1961.0</td>\n",
       "    </tr>\n",
       "  </tbody>\n",
       "</table>\n",
       "</div>"
      ],
      "text/plain": [
       "                                  name                ID               ALIGN  \\\n",
       "0            Spider-Man (Peter Parker)   Secret Identity     Good Characters   \n",
       "1      Captain America (Steven Rogers)   Public Identity     Good Characters   \n",
       "2  Wolverine (James \\\"Logan\\\" Howlett)   Public Identity  Neutral Characters   \n",
       "3    Iron Man (Anthony \\\"Tony\\\" Stark)   Public Identity     Good Characters   \n",
       "4                  Thor (Thor Odinson)  No Dual Identity     Good Characters   \n",
       "5           Benjamin Grimm (Earth-616)   Public Identity     Good Characters   \n",
       "6            Reed Richards (Earth-616)   Public Identity     Good Characters   \n",
       "7           Hulk (Robert Bruce Banner)   Public Identity     Good Characters   \n",
       "8            Scott Summers (Earth-616)   Public Identity  Neutral Characters   \n",
       "9           Jonathan Storm (Earth-616)   Public Identity     Good Characters   \n",
       "\n",
       "          EYE        HAIR              SEX  GSM              ALIVE  \\\n",
       "0  Hazel Eyes  Brown Hair  Male Characters  NaN  Living Characters   \n",
       "1   Blue Eyes  White Hair  Male Characters  NaN  Living Characters   \n",
       "2   Blue Eyes  Black Hair  Male Characters  NaN  Living Characters   \n",
       "3   Blue Eyes  Black Hair  Male Characters  NaN  Living Characters   \n",
       "4   Blue Eyes  Blond Hair  Male Characters  NaN  Living Characters   \n",
       "5   Blue Eyes     No Hair  Male Characters  NaN  Living Characters   \n",
       "6  Brown Eyes  Brown Hair  Male Characters  NaN  Living Characters   \n",
       "7  Brown Eyes  Brown Hair  Male Characters  NaN  Living Characters   \n",
       "8  Brown Eyes  Brown Hair  Male Characters  NaN  Living Characters   \n",
       "9   Blue Eyes  Blond Hair  Male Characters  NaN  Living Characters   \n",
       "\n",
       "   APPEARANCES FIRST APPEARANCE    Year  \n",
       "0       4043.0           Aug-62  1962.0  \n",
       "1       3360.0           Mar-41  1941.0  \n",
       "2       3061.0           Oct-74  1974.0  \n",
       "3       2961.0           Mar-63  1963.0  \n",
       "4       2258.0           Nov-50  1950.0  \n",
       "5       2255.0           Nov-61  1961.0  \n",
       "6       2072.0           Nov-61  1961.0  \n",
       "7       2017.0           May-62  1962.0  \n",
       "8       1955.0           Sep-63  1963.0  \n",
       "9       1934.0           Nov-61  1961.0  "
      ]
     },
     "execution_count": 28,
     "metadata": {},
     "output_type": "execute_result"
    }
   ],
   "source": [
    "dc.head(10)"
   ]
  },
  {
   "cell_type": "markdown",
   "id": "e19ec7eb",
   "metadata": {},
   "source": [
    "# Last 5 records"
   ]
  },
  {
   "cell_type": "code",
   "execution_count": 12,
   "id": "c812eb15",
   "metadata": {},
   "outputs": [
    {
     "data": {
      "text/html": [
       "<div>\n",
       "<style scoped>\n",
       "    .dataframe tbody tr th:only-of-type {\n",
       "        vertical-align: middle;\n",
       "    }\n",
       "\n",
       "    .dataframe tbody tr th {\n",
       "        vertical-align: top;\n",
       "    }\n",
       "\n",
       "    .dataframe thead th {\n",
       "        text-align: right;\n",
       "    }\n",
       "</style>\n",
       "<table border=\"1\" class=\"dataframe\">\n",
       "  <thead>\n",
       "    <tr style=\"text-align: right;\">\n",
       "      <th></th>\n",
       "      <th>name</th>\n",
       "      <th>ID</th>\n",
       "      <th>ALIGN</th>\n",
       "      <th>EYE</th>\n",
       "      <th>HAIR</th>\n",
       "      <th>SEX</th>\n",
       "      <th>GSM</th>\n",
       "      <th>ALIVE</th>\n",
       "      <th>APPEARANCES</th>\n",
       "      <th>FIRST APPEARANCE</th>\n",
       "      <th>Year</th>\n",
       "    </tr>\n",
       "  </thead>\n",
       "  <tbody>\n",
       "    <tr>\n",
       "      <th>16371</th>\n",
       "      <td>Ru'ach (Earth-616)</td>\n",
       "      <td>No Dual Identity</td>\n",
       "      <td>Bad Characters</td>\n",
       "      <td>Green Eyes</td>\n",
       "      <td>No Hair</td>\n",
       "      <td>Male Characters</td>\n",
       "      <td>NaN</td>\n",
       "      <td>Living Characters</td>\n",
       "      <td>NaN</td>\n",
       "      <td>NaN</td>\n",
       "      <td>NaN</td>\n",
       "    </tr>\n",
       "    <tr>\n",
       "      <th>16372</th>\n",
       "      <td>Thane (Thanos' son) (Earth-616)</td>\n",
       "      <td>No Dual Identity</td>\n",
       "      <td>Good Characters</td>\n",
       "      <td>Blue Eyes</td>\n",
       "      <td>Bald</td>\n",
       "      <td>Male Characters</td>\n",
       "      <td>NaN</td>\n",
       "      <td>Living Characters</td>\n",
       "      <td>NaN</td>\n",
       "      <td>NaN</td>\n",
       "      <td>NaN</td>\n",
       "    </tr>\n",
       "    <tr>\n",
       "      <th>16373</th>\n",
       "      <td>Tinkerer (Skrull) (Earth-616)</td>\n",
       "      <td>Secret Identity</td>\n",
       "      <td>Bad Characters</td>\n",
       "      <td>Black Eyes</td>\n",
       "      <td>Bald</td>\n",
       "      <td>Male Characters</td>\n",
       "      <td>NaN</td>\n",
       "      <td>Living Characters</td>\n",
       "      <td>NaN</td>\n",
       "      <td>NaN</td>\n",
       "      <td>NaN</td>\n",
       "    </tr>\n",
       "    <tr>\n",
       "      <th>16374</th>\n",
       "      <td>TK421 (Spiderling) (Earth-616)</td>\n",
       "      <td>Secret Identity</td>\n",
       "      <td>Neutral Characters</td>\n",
       "      <td>NaN</td>\n",
       "      <td>NaN</td>\n",
       "      <td>Male Characters</td>\n",
       "      <td>NaN</td>\n",
       "      <td>Living Characters</td>\n",
       "      <td>NaN</td>\n",
       "      <td>NaN</td>\n",
       "      <td>NaN</td>\n",
       "    </tr>\n",
       "    <tr>\n",
       "      <th>16375</th>\n",
       "      <td>Yologarch (Earth-616)</td>\n",
       "      <td>NaN</td>\n",
       "      <td>Bad Characters</td>\n",
       "      <td>NaN</td>\n",
       "      <td>NaN</td>\n",
       "      <td>NaN</td>\n",
       "      <td>NaN</td>\n",
       "      <td>Living Characters</td>\n",
       "      <td>NaN</td>\n",
       "      <td>NaN</td>\n",
       "      <td>NaN</td>\n",
       "    </tr>\n",
       "  </tbody>\n",
       "</table>\n",
       "</div>"
      ],
      "text/plain": [
       "                                  name                ID               ALIGN  \\\n",
       "16371               Ru'ach (Earth-616)  No Dual Identity      Bad Characters   \n",
       "16372  Thane (Thanos' son) (Earth-616)  No Dual Identity     Good Characters   \n",
       "16373    Tinkerer (Skrull) (Earth-616)   Secret Identity      Bad Characters   \n",
       "16374   TK421 (Spiderling) (Earth-616)   Secret Identity  Neutral Characters   \n",
       "16375            Yologarch (Earth-616)               NaN      Bad Characters   \n",
       "\n",
       "              EYE     HAIR              SEX  GSM              ALIVE  \\\n",
       "16371  Green Eyes  No Hair  Male Characters  NaN  Living Characters   \n",
       "16372   Blue Eyes     Bald  Male Characters  NaN  Living Characters   \n",
       "16373  Black Eyes     Bald  Male Characters  NaN  Living Characters   \n",
       "16374         NaN      NaN  Male Characters  NaN  Living Characters   \n",
       "16375         NaN      NaN              NaN  NaN  Living Characters   \n",
       "\n",
       "       APPEARANCES FIRST APPEARANCE  Year  \n",
       "16371          NaN              NaN   NaN  \n",
       "16372          NaN              NaN   NaN  \n",
       "16373          NaN              NaN   NaN  \n",
       "16374          NaN              NaN   NaN  \n",
       "16375          NaN              NaN   NaN  "
      ]
     },
     "execution_count": 12,
     "metadata": {},
     "output_type": "execute_result"
    }
   ],
   "source": [
    "dc.tail()"
   ]
  },
  {
   "cell_type": "markdown",
   "id": "b510bfc9",
   "metadata": {},
   "source": [
    "# Counting the total amount of records in each column "
   ]
  },
  {
   "cell_type": "code",
   "execution_count": 13,
   "id": "da84a490",
   "metadata": {
    "scrolled": true
   },
   "outputs": [
    {
     "data": {
      "text/plain": [
       "name                16376\n",
       "ID                  12606\n",
       "ALIGN               13564\n",
       "EYE                  6609\n",
       "HAIR                12112\n",
       "SEX                 15522\n",
       "GSM                    90\n",
       "ALIVE               16373\n",
       "APPEARANCES         15280\n",
       "FIRST APPEARANCE    15561\n",
       "Year                15561\n",
       "dtype: int64"
      ]
     },
     "execution_count": 13,
     "metadata": {},
     "output_type": "execute_result"
    }
   ],
   "source": [
    "data.count()"
   ]
  },
  {
   "cell_type": "markdown",
   "id": "0b533d20",
   "metadata": {},
   "source": [
    "# Finding out the categories in ID Column"
   ]
  },
  {
   "cell_type": "code",
   "execution_count": 14,
   "id": "8466084f",
   "metadata": {},
   "outputs": [
    {
     "data": {
      "text/plain": [
       "array(['Secret Identity', 'Public Identity', 'No Dual Identity',\n",
       "       'Known to Authorities Identity', nan], dtype=object)"
      ]
     },
     "execution_count": 14,
     "metadata": {},
     "output_type": "execute_result"
    }
   ],
   "source": [
    "dc['ID'].unique()"
   ]
  },
  {
   "cell_type": "markdown",
   "id": "5acbeeac",
   "metadata": {},
   "source": [
    "# Replacing Nan => Unknown in ID Column"
   ]
  },
  {
   "cell_type": "code",
   "execution_count": 16,
   "id": "88ade194",
   "metadata": {},
   "outputs": [
    {
     "data": {
      "text/plain": [
       "0         Secret Identity\n",
       "1         Public Identity\n",
       "2         Public Identity\n",
       "3         Public Identity\n",
       "4        No Dual Identity\n",
       "               ...       \n",
       "16371    No Dual Identity\n",
       "16372    No Dual Identity\n",
       "16373     Secret Identity\n",
       "16374     Secret Identity\n",
       "16375             Unknown\n",
       "Name: ID, Length: 16376, dtype: object"
      ]
     },
     "execution_count": 16,
     "metadata": {},
     "output_type": "execute_result"
    }
   ],
   "source": [
    "dc['ID'] = dc['ID'].replace(np.nan, \"Unknown\")\n",
    "\n",
    "dc['ID']"
   ]
  },
  {
   "cell_type": "code",
   "execution_count": 17,
   "id": "974d558e",
   "metadata": {},
   "outputs": [
    {
     "data": {
      "text/plain": [
       "array(['Secret Identity', 'Public Identity', 'No Dual Identity',\n",
       "       'Known to Authorities Identity', 'Unknown'], dtype=object)"
      ]
     },
     "execution_count": 17,
     "metadata": {},
     "output_type": "execute_result"
    }
   ],
   "source": [
    "dc['ID'].unique()"
   ]
  },
  {
   "cell_type": "code",
   "execution_count": 19,
   "id": "b2a5a730",
   "metadata": {},
   "outputs": [
    {
     "data": {
      "text/plain": [
       "array(['Male Characters', 'Female Characters', 'Genderfluid Characters',\n",
       "       'Agender Characters', nan], dtype=object)"
      ]
     },
     "execution_count": 19,
     "metadata": {},
     "output_type": "execute_result"
    }
   ],
   "source": [
    "dc[\"SEX\"].unique()"
   ]
  },
  {
   "cell_type": "markdown",
   "id": "834f8a19",
   "metadata": {},
   "source": [
    "# Finding out only the Male Characters"
   ]
  },
  {
   "cell_type": "code",
   "execution_count": 21,
   "id": "99a6f53e",
   "metadata": {},
   "outputs": [
    {
     "data": {
      "text/html": [
       "<div>\n",
       "<style scoped>\n",
       "    .dataframe tbody tr th:only-of-type {\n",
       "        vertical-align: middle;\n",
       "    }\n",
       "\n",
       "    .dataframe tbody tr th {\n",
       "        vertical-align: top;\n",
       "    }\n",
       "\n",
       "    .dataframe thead th {\n",
       "        text-align: right;\n",
       "    }\n",
       "</style>\n",
       "<table border=\"1\" class=\"dataframe\">\n",
       "  <thead>\n",
       "    <tr style=\"text-align: right;\">\n",
       "      <th></th>\n",
       "      <th>name</th>\n",
       "      <th>ID</th>\n",
       "      <th>ALIGN</th>\n",
       "      <th>EYE</th>\n",
       "      <th>HAIR</th>\n",
       "      <th>SEX</th>\n",
       "      <th>GSM</th>\n",
       "      <th>ALIVE</th>\n",
       "      <th>APPEARANCES</th>\n",
       "      <th>FIRST APPEARANCE</th>\n",
       "      <th>Year</th>\n",
       "    </tr>\n",
       "  </thead>\n",
       "  <tbody>\n",
       "    <tr>\n",
       "      <th>0</th>\n",
       "      <td>Spider-Man (Peter Parker)</td>\n",
       "      <td>Secret Identity</td>\n",
       "      <td>Good Characters</td>\n",
       "      <td>Hazel Eyes</td>\n",
       "      <td>Brown Hair</td>\n",
       "      <td>Male Characters</td>\n",
       "      <td>NaN</td>\n",
       "      <td>Living Characters</td>\n",
       "      <td>4043.0</td>\n",
       "      <td>Aug-62</td>\n",
       "      <td>1962.0</td>\n",
       "    </tr>\n",
       "    <tr>\n",
       "      <th>1</th>\n",
       "      <td>Captain America (Steven Rogers)</td>\n",
       "      <td>Public Identity</td>\n",
       "      <td>Good Characters</td>\n",
       "      <td>Blue Eyes</td>\n",
       "      <td>White Hair</td>\n",
       "      <td>Male Characters</td>\n",
       "      <td>NaN</td>\n",
       "      <td>Living Characters</td>\n",
       "      <td>3360.0</td>\n",
       "      <td>Mar-41</td>\n",
       "      <td>1941.0</td>\n",
       "    </tr>\n",
       "    <tr>\n",
       "      <th>2</th>\n",
       "      <td>Wolverine (James \\\"Logan\\\" Howlett)</td>\n",
       "      <td>Public Identity</td>\n",
       "      <td>Neutral Characters</td>\n",
       "      <td>Blue Eyes</td>\n",
       "      <td>Black Hair</td>\n",
       "      <td>Male Characters</td>\n",
       "      <td>NaN</td>\n",
       "      <td>Living Characters</td>\n",
       "      <td>3061.0</td>\n",
       "      <td>Oct-74</td>\n",
       "      <td>1974.0</td>\n",
       "    </tr>\n",
       "    <tr>\n",
       "      <th>3</th>\n",
       "      <td>Iron Man (Anthony \\\"Tony\\\" Stark)</td>\n",
       "      <td>Public Identity</td>\n",
       "      <td>Good Characters</td>\n",
       "      <td>Blue Eyes</td>\n",
       "      <td>Black Hair</td>\n",
       "      <td>Male Characters</td>\n",
       "      <td>NaN</td>\n",
       "      <td>Living Characters</td>\n",
       "      <td>2961.0</td>\n",
       "      <td>Mar-63</td>\n",
       "      <td>1963.0</td>\n",
       "    </tr>\n",
       "    <tr>\n",
       "      <th>4</th>\n",
       "      <td>Thor (Thor Odinson)</td>\n",
       "      <td>No Dual Identity</td>\n",
       "      <td>Good Characters</td>\n",
       "      <td>Blue Eyes</td>\n",
       "      <td>Blond Hair</td>\n",
       "      <td>Male Characters</td>\n",
       "      <td>NaN</td>\n",
       "      <td>Living Characters</td>\n",
       "      <td>2258.0</td>\n",
       "      <td>Nov-50</td>\n",
       "      <td>1950.0</td>\n",
       "    </tr>\n",
       "    <tr>\n",
       "      <th>...</th>\n",
       "      <td>...</td>\n",
       "      <td>...</td>\n",
       "      <td>...</td>\n",
       "      <td>...</td>\n",
       "      <td>...</td>\n",
       "      <td>...</td>\n",
       "      <td>...</td>\n",
       "      <td>...</td>\n",
       "      <td>...</td>\n",
       "      <td>...</td>\n",
       "      <td>...</td>\n",
       "    </tr>\n",
       "    <tr>\n",
       "      <th>16367</th>\n",
       "      <td>Marcus (Kate Bishop's neighbor) (Earth-616)</td>\n",
       "      <td>Public Identity</td>\n",
       "      <td>Good Characters</td>\n",
       "      <td>Hazel Eyes</td>\n",
       "      <td>Bald</td>\n",
       "      <td>Male Characters</td>\n",
       "      <td>Homosexual Characters</td>\n",
       "      <td>Living Characters</td>\n",
       "      <td>NaN</td>\n",
       "      <td>NaN</td>\n",
       "      <td>NaN</td>\n",
       "    </tr>\n",
       "    <tr>\n",
       "      <th>16371</th>\n",
       "      <td>Ru'ach (Earth-616)</td>\n",
       "      <td>No Dual Identity</td>\n",
       "      <td>Bad Characters</td>\n",
       "      <td>Green Eyes</td>\n",
       "      <td>No Hair</td>\n",
       "      <td>Male Characters</td>\n",
       "      <td>NaN</td>\n",
       "      <td>Living Characters</td>\n",
       "      <td>NaN</td>\n",
       "      <td>NaN</td>\n",
       "      <td>NaN</td>\n",
       "    </tr>\n",
       "    <tr>\n",
       "      <th>16372</th>\n",
       "      <td>Thane (Thanos' son) (Earth-616)</td>\n",
       "      <td>No Dual Identity</td>\n",
       "      <td>Good Characters</td>\n",
       "      <td>Blue Eyes</td>\n",
       "      <td>Bald</td>\n",
       "      <td>Male Characters</td>\n",
       "      <td>NaN</td>\n",
       "      <td>Living Characters</td>\n",
       "      <td>NaN</td>\n",
       "      <td>NaN</td>\n",
       "      <td>NaN</td>\n",
       "    </tr>\n",
       "    <tr>\n",
       "      <th>16373</th>\n",
       "      <td>Tinkerer (Skrull) (Earth-616)</td>\n",
       "      <td>Secret Identity</td>\n",
       "      <td>Bad Characters</td>\n",
       "      <td>Black Eyes</td>\n",
       "      <td>Bald</td>\n",
       "      <td>Male Characters</td>\n",
       "      <td>NaN</td>\n",
       "      <td>Living Characters</td>\n",
       "      <td>NaN</td>\n",
       "      <td>NaN</td>\n",
       "      <td>NaN</td>\n",
       "    </tr>\n",
       "    <tr>\n",
       "      <th>16374</th>\n",
       "      <td>TK421 (Spiderling) (Earth-616)</td>\n",
       "      <td>Secret Identity</td>\n",
       "      <td>Neutral Characters</td>\n",
       "      <td>NaN</td>\n",
       "      <td>NaN</td>\n",
       "      <td>Male Characters</td>\n",
       "      <td>NaN</td>\n",
       "      <td>Living Characters</td>\n",
       "      <td>NaN</td>\n",
       "      <td>NaN</td>\n",
       "      <td>NaN</td>\n",
       "    </tr>\n",
       "  </tbody>\n",
       "</table>\n",
       "<p>11638 rows × 11 columns</p>\n",
       "</div>"
      ],
      "text/plain": [
       "                                              name                ID  \\\n",
       "0                        Spider-Man (Peter Parker)   Secret Identity   \n",
       "1                  Captain America (Steven Rogers)   Public Identity   \n",
       "2              Wolverine (James \\\"Logan\\\" Howlett)   Public Identity   \n",
       "3                Iron Man (Anthony \\\"Tony\\\" Stark)   Public Identity   \n",
       "4                              Thor (Thor Odinson)  No Dual Identity   \n",
       "...                                            ...               ...   \n",
       "16367  Marcus (Kate Bishop's neighbor) (Earth-616)   Public Identity   \n",
       "16371                           Ru'ach (Earth-616)  No Dual Identity   \n",
       "16372              Thane (Thanos' son) (Earth-616)  No Dual Identity   \n",
       "16373                Tinkerer (Skrull) (Earth-616)   Secret Identity   \n",
       "16374               TK421 (Spiderling) (Earth-616)   Secret Identity   \n",
       "\n",
       "                    ALIGN         EYE        HAIR              SEX  \\\n",
       "0         Good Characters  Hazel Eyes  Brown Hair  Male Characters   \n",
       "1         Good Characters   Blue Eyes  White Hair  Male Characters   \n",
       "2      Neutral Characters   Blue Eyes  Black Hair  Male Characters   \n",
       "3         Good Characters   Blue Eyes  Black Hair  Male Characters   \n",
       "4         Good Characters   Blue Eyes  Blond Hair  Male Characters   \n",
       "...                   ...         ...         ...              ...   \n",
       "16367     Good Characters  Hazel Eyes        Bald  Male Characters   \n",
       "16371      Bad Characters  Green Eyes     No Hair  Male Characters   \n",
       "16372     Good Characters   Blue Eyes        Bald  Male Characters   \n",
       "16373      Bad Characters  Black Eyes        Bald  Male Characters   \n",
       "16374  Neutral Characters         NaN         NaN  Male Characters   \n",
       "\n",
       "                         GSM              ALIVE  APPEARANCES FIRST APPEARANCE  \\\n",
       "0                        NaN  Living Characters       4043.0           Aug-62   \n",
       "1                        NaN  Living Characters       3360.0           Mar-41   \n",
       "2                        NaN  Living Characters       3061.0           Oct-74   \n",
       "3                        NaN  Living Characters       2961.0           Mar-63   \n",
       "4                        NaN  Living Characters       2258.0           Nov-50   \n",
       "...                      ...                ...          ...              ...   \n",
       "16367  Homosexual Characters  Living Characters          NaN              NaN   \n",
       "16371                    NaN  Living Characters          NaN              NaN   \n",
       "16372                    NaN  Living Characters          NaN              NaN   \n",
       "16373                    NaN  Living Characters          NaN              NaN   \n",
       "16374                    NaN  Living Characters          NaN              NaN   \n",
       "\n",
       "         Year  \n",
       "0      1962.0  \n",
       "1      1941.0  \n",
       "2      1974.0  \n",
       "3      1963.0  \n",
       "4      1950.0  \n",
       "...       ...  \n",
       "16367     NaN  \n",
       "16371     NaN  \n",
       "16372     NaN  \n",
       "16373     NaN  \n",
       "16374     NaN  \n",
       "\n",
       "[11638 rows x 11 columns]"
      ]
     },
     "execution_count": 21,
     "metadata": {},
     "output_type": "execute_result"
    }
   ],
   "source": [
    "res=dc.loc[dc['SEX'] == 'Male Characters']\n",
    "res"
   ]
  },
  {
   "cell_type": "markdown",
   "id": "87784550",
   "metadata": {},
   "source": [
    "# Total count of each category in SEX column"
   ]
  },
  {
   "cell_type": "code",
   "execution_count": 26,
   "id": "c6ec478d",
   "metadata": {},
   "outputs": [
    {
     "data": {
      "text/plain": [
       "Male Characters           11638\n",
       "Female Characters          3837\n",
       "Agender Characters           45\n",
       "Genderfluid Characters        2\n",
       "Name: SEX, dtype: int64"
      ]
     },
     "execution_count": 26,
     "metadata": {},
     "output_type": "execute_result"
    }
   ],
   "source": [
    "res=dc['SEX'].value_counts()\n",
    "res"
   ]
  },
  {
   "cell_type": "markdown",
   "id": "50a411d1",
   "metadata": {},
   "source": [
    "# Characters appearance over the years"
   ]
  },
  {
   "cell_type": "code",
   "execution_count": 7,
   "id": "9093ce80",
   "metadata": {},
   "outputs": [
    {
     "data": {
      "text/plain": [
       "1939.0     69\n",
       "1940.0    221\n",
       "1941.0    207\n",
       "1942.0    244\n",
       "1943.0    198\n",
       "         ... \n",
       "2009.0    302\n",
       "2010.0    324\n",
       "2011.0    349\n",
       "2012.0    201\n",
       "2013.0    167\n",
       "Name: Year, Length: 75, dtype: int64"
      ]
     },
     "execution_count": 7,
     "metadata": {},
     "output_type": "execute_result"
    }
   ],
   "source": [
    "import pandas as pd\n",
    "import numpy as np\n",
    "\n",
    "data= pd.read_csv('marvel.csv')\n",
    "dc=data.copy()\n",
    "years=dc.Year.value_counts().sort_index()\n",
    "years"
   ]
  },
  {
   "cell_type": "markdown",
   "id": "63671031",
   "metadata": {},
   "source": [
    "# The Most Used Eye Type"
   ]
  },
  {
   "cell_type": "code",
   "execution_count": 14,
   "id": "ae69c483",
   "metadata": {},
   "outputs": [
    {
     "data": {
      "text/plain": [
       "Amber Eyes           10\n",
       "Black Eyeballs        3\n",
       "Black Eyes          555\n",
       "Blue Eyes          1962\n",
       "Brown Eyes         1924\n",
       "Compound Eyes         1\n",
       "Gold Eyes            14\n",
       "Green Eyes          613\n",
       "Grey Eyes            95\n",
       "Hazel Eyes           76\n",
       "Magenta Eyes          2\n",
       "Multiple Eyes         7\n",
       "No Eyes               7\n",
       "One Eye              21\n",
       "Orange Eyes          25\n",
       "Pink Eyes            21\n",
       "Purple Eyes          31\n",
       "Red Eyes            508\n",
       "Silver Eyes          12\n",
       "Variable Eyes        49\n",
       "Violet Eyes          11\n",
       "White Eyes          400\n",
       "Yellow Eyeballs       6\n",
       "Yellow Eyes         256\n",
       "Name: EYE, dtype: int64"
      ]
     },
     "execution_count": 14,
     "metadata": {},
     "output_type": "execute_result"
    }
   ],
   "source": [
    "eye=dc.EYE.value_counts().sort_index()\n",
    "eye"
   ]
  },
  {
   "cell_type": "markdown",
   "id": "5fe846f6",
   "metadata": {},
   "source": [
    "# The Most Used Hair Type"
   ]
  },
  {
   "cell_type": "code",
   "execution_count": 16,
   "id": "6439723b",
   "metadata": {},
   "outputs": [
    {
     "data": {
      "text/plain": [
       "Auburn Hair                78\n",
       "Bald                      838\n",
       "Black Hair               3755\n",
       "Blond Hair               1582\n",
       "Blue Hair                  56\n",
       "Bronze Hair                 1\n",
       "Brown Hair               2339\n",
       "Dyed Hair                   1\n",
       "Gold Hair                   8\n",
       "Green Hair                117\n",
       "Grey Hair                 531\n",
       "Light Brown Hair            6\n",
       "Magenta Hair                5\n",
       "No Hair                  1176\n",
       "Orange Hair                43\n",
       "Orange-brown Hair           3\n",
       "Pink Hair                  31\n",
       "Purple Hair                47\n",
       "Red Hair                  620\n",
       "Reddish Blond Hair          6\n",
       "Silver Hair                16\n",
       "Strawberry Blond Hair      47\n",
       "Variable Hair              32\n",
       "White Hair                754\n",
       "Yellow Hair                20\n",
       "Name: HAIR, dtype: int64"
      ]
     },
     "execution_count": 16,
     "metadata": {},
     "output_type": "execute_result"
    }
   ],
   "source": [
    "hair=dc.HAIR.value_counts().sort_index()\n",
    "hair"
   ]
  },
  {
   "cell_type": "markdown",
   "id": "2db95731",
   "metadata": {},
   "source": [
    "# THE HIGHEST MIX BETWEEN EYE AND HAIR MARVEL USED"
   ]
  },
  {
   "cell_type": "code",
   "execution_count": 6,
   "id": "c3c69940",
   "metadata": {},
   "outputs": [
    {
     "data": {
      "text/plain": [
       "EYE         HAIR      \n",
       "Brown Eyes  Black Hair    824\n",
       "            Brown Hair    655\n",
       "Blue Eyes   Blond Hair    649\n",
       "            Black Hair    391\n",
       "            Brown Hair    294\n",
       "Name: name, dtype: int64"
      ]
     },
     "execution_count": 6,
     "metadata": {},
     "output_type": "execute_result"
    }
   ],
   "source": [
    "dc.groupby(['EYE','HAIR']).count().name.nlargest()"
   ]
  },
  {
   "cell_type": "markdown",
   "id": "cc619c89",
   "metadata": {},
   "source": [
    "# Proportion b/w living and deceased characters"
   ]
  },
  {
   "cell_type": "code",
   "execution_count": 20,
   "id": "02c5ab30",
   "metadata": {},
   "outputs": [
    {
     "name": "stdout",
     "output_type": "stream",
     "text": [
      "Proportion Of living Characters:  76.99071812408403\n",
      "Proportion Of Deceased Characters:  22.99096238397655\n",
      "Proportion Of Nan Characters:  0.0\n"
     ]
    }
   ],
   "source": [
    "liv=len(dc[dc['ALIVE']==\"Living Characters\"])/len(dc)\n",
    "dec=len(dc[dc['ALIVE']==\"Deceased Characters\"])/len(dc)\n",
    "nan=len(dc[dc['ALIVE']==\"Nan\"])/len(dc)\n",
    "\n",
    "print(\"Proportion Of living Characters: \",liv*100)\n",
    "print(\"Proportion Of Deceased Characters: \",dec*100)\n",
    "print(\"Proportion Of Nan Characters: \",nan*100)"
   ]
  },
  {
   "cell_type": "code",
   "execution_count": 19,
   "id": "39351740",
   "metadata": {},
   "outputs": [
    {
     "data": {
      "text/plain": [
       "array(['Living Characters', 'Deceased Characters', nan], dtype=object)"
      ]
     },
     "execution_count": 19,
     "metadata": {},
     "output_type": "execute_result"
    }
   ],
   "source": [
    "dc['ALIVE'].unique()"
   ]
  }
 ],
 "metadata": {
  "kernelspec": {
   "display_name": "Python 3 (ipykernel)",
   "language": "python",
   "name": "python3"
  },
  "language_info": {
   "codemirror_mode": {
    "name": "ipython",
    "version": 3
   },
   "file_extension": ".py",
   "mimetype": "text/x-python",
   "name": "python",
   "nbconvert_exporter": "python",
   "pygments_lexer": "ipython3",
   "version": "3.9.12"
  }
 },
 "nbformat": 4,
 "nbformat_minor": 5
}
